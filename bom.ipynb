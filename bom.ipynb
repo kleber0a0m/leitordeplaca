{
  "cells": [
    {
      "cell_type": "code",
      "source": [
        ""
      ],
      "metadata": {
        "id": "P5PUntMwCato"
      },
      "execution_count": null,
      "outputs": []
    },
    {
      "cell_type": "code",
      "source": [
        "input_oficiais = input(\"Digite as placas dos veiculos oficiais(separe por ','):\")\n",
        "oficias_list  = input_oficiais.split(\",\")\n",
        "input_ocorrencias = input(\"Digite as placas dos veiculos com ocorrencias(separe por ','):\")\n",
        "ocorrencias_list  = input_ocorrencias.split(\",\")\n",
        "\n",
        "print(\"Veiculos oficiais cadastrados:\")\n",
        "for n in oficias_list:\n",
        "    txtoficiais = open(\"txtoficiais.txt\", \"a\")\n",
        "    txtoficiais.write(n+\",\")\n",
        "    print(n)\n",
        "\n",
        "print(\"Veiculos com ocorrencias cadastrados:\")\n",
        "for n in ocorrencias_list:\n",
        "    txtocorrencias = open(\"txtocorrencias.txt\", \"a\")\n",
        "    txtocorrencias.write(n+\",\")\n",
        "    print(n)\n",
        "    \n",
        "print(\"---------\")"
      ],
      "metadata": {
        "colab": {
          "base_uri": "https://localhost:8080/"
        },
        "id": "-XwsjmfS_h3F",
        "outputId": "7c7ce030-3ef4-4e45-ec55-edc950e0159a"
      },
      "execution_count": 6,
      "outputs": [
        {
          "output_type": "stream",
          "name": "stdout",
          "text": [
            "Digite as placas dos veiculos oficiais(separe por ','):A,B,C,D\n",
            "Digite as placas dos veiculos com ocorrencias(separe por ','):G,H,I,J\n",
            "Veiculos oficiais cadastrados:\n",
            "A\n",
            "B\n",
            "C\n",
            "D\n",
            "Veiculos com ocorrencias cadastrados:\n",
            "G\n",
            "H\n",
            "I\n",
            "J\n",
            "---------\n"
          ]
        }
      ]
    },
    {
      "cell_type": "code",
      "execution_count": 2,
      "metadata": {
        "colab": {
          "base_uri": "https://localhost:8080/"
        },
        "id": "qy5vUx8JOd9y",
        "outputId": "ff3580f7-0de4-4272-ade7-c7712ef95170"
      },
      "outputs": [
        {
          "output_type": "stream",
          "name": "stdout",
          "text": [
            "Looking in indexes: https://pypi.org/simple, https://us-python.pkg.dev/colab-wheels/public/simple/\n",
            "Collecting easyocr\n",
            "  Downloading easyocr-1.5.0-py3-none-any.whl (70.8 MB)\n",
            "\u001b[K     |████████████████████████████████| 70.8 MB 17 kB/s \n",
            "\u001b[?25hRequirement already satisfied: numpy in /usr/local/lib/python3.7/dist-packages (from easyocr) (1.21.6)\n",
            "Requirement already satisfied: scikit-image in /usr/local/lib/python3.7/dist-packages (from easyocr) (0.18.3)\n",
            "Requirement already satisfied: PyYAML in /usr/local/lib/python3.7/dist-packages (from easyocr) (3.13)\n",
            "Requirement already satisfied: torchvision>=0.5 in /usr/local/lib/python3.7/dist-packages (from easyocr) (0.12.0+cu113)\n",
            "Collecting opencv-python-headless<=4.5.4.60\n",
            "  Downloading opencv_python_headless-4.5.4.60-cp37-cp37m-manylinux_2_17_x86_64.manylinux2014_x86_64.whl (47.6 MB)\n",
            "\u001b[K     |████████████████████████████████| 47.6 MB 1.4 MB/s \n",
            "\u001b[?25hCollecting python-bidi\n",
            "  Downloading python_bidi-0.4.2-py2.py3-none-any.whl (30 kB)\n",
            "Requirement already satisfied: scipy in /usr/local/lib/python3.7/dist-packages (from easyocr) (1.4.1)\n",
            "Requirement already satisfied: torch in /usr/local/lib/python3.7/dist-packages (from easyocr) (1.11.0+cu113)\n",
            "Requirement already satisfied: Pillow in /usr/local/lib/python3.7/dist-packages (from easyocr) (7.1.2)\n",
            "Requirement already satisfied: requests in /usr/local/lib/python3.7/dist-packages (from torchvision>=0.5->easyocr) (2.23.0)\n",
            "Requirement already satisfied: typing-extensions in /usr/local/lib/python3.7/dist-packages (from torchvision>=0.5->easyocr) (4.1.1)\n",
            "Requirement already satisfied: six in /usr/local/lib/python3.7/dist-packages (from python-bidi->easyocr) (1.15.0)\n",
            "Requirement already satisfied: chardet<4,>=3.0.2 in /usr/local/lib/python3.7/dist-packages (from requests->torchvision>=0.5->easyocr) (3.0.4)\n",
            "Requirement already satisfied: urllib3!=1.25.0,!=1.25.1,<1.26,>=1.21.1 in /usr/local/lib/python3.7/dist-packages (from requests->torchvision>=0.5->easyocr) (1.24.3)\n",
            "Requirement already satisfied: certifi>=2017.4.17 in /usr/local/lib/python3.7/dist-packages (from requests->torchvision>=0.5->easyocr) (2022.6.15)\n",
            "Requirement already satisfied: idna<3,>=2.5 in /usr/local/lib/python3.7/dist-packages (from requests->torchvision>=0.5->easyocr) (2.10)\n",
            "Requirement already satisfied: tifffile>=2019.7.26 in /usr/local/lib/python3.7/dist-packages (from scikit-image->easyocr) (2021.11.2)\n",
            "Requirement already satisfied: PyWavelets>=1.1.1 in /usr/local/lib/python3.7/dist-packages (from scikit-image->easyocr) (1.3.0)\n",
            "Requirement already satisfied: imageio>=2.3.0 in /usr/local/lib/python3.7/dist-packages (from scikit-image->easyocr) (2.4.1)\n",
            "Requirement already satisfied: matplotlib!=3.0.0,>=2.0.0 in /usr/local/lib/python3.7/dist-packages (from scikit-image->easyocr) (3.2.2)\n",
            "Requirement already satisfied: networkx>=2.0 in /usr/local/lib/python3.7/dist-packages (from scikit-image->easyocr) (2.6.3)\n",
            "Requirement already satisfied: python-dateutil>=2.1 in /usr/local/lib/python3.7/dist-packages (from matplotlib!=3.0.0,>=2.0.0->scikit-image->easyocr) (2.8.2)\n",
            "Requirement already satisfied: cycler>=0.10 in /usr/local/lib/python3.7/dist-packages (from matplotlib!=3.0.0,>=2.0.0->scikit-image->easyocr) (0.11.0)\n",
            "Requirement already satisfied: pyparsing!=2.0.4,!=2.1.2,!=2.1.6,>=2.0.1 in /usr/local/lib/python3.7/dist-packages (from matplotlib!=3.0.0,>=2.0.0->scikit-image->easyocr) (3.0.9)\n",
            "Requirement already satisfied: kiwisolver>=1.0.1 in /usr/local/lib/python3.7/dist-packages (from matplotlib!=3.0.0,>=2.0.0->scikit-image->easyocr) (1.4.3)\n",
            "Installing collected packages: python-bidi, opencv-python-headless, easyocr\n",
            "Successfully installed easyocr-1.5.0 opencv-python-headless-4.5.4.60 python-bidi-0.4.2\n",
            "Looking in indexes: https://pypi.org/simple, https://us-python.pkg.dev/colab-wheels/public/simple/\n",
            "Requirement already satisfied: imutils in /usr/local/lib/python3.7/dist-packages (0.5.4)\n",
            "  % Total    % Received % Xferd  Average Speed   Time    Time     Time  Current\n",
            "                                 Dload  Upload   Total   Spent    Left  Speed\n",
            "100 1001k  100 1001k    0     0   450k      0  0:00:02  0:00:02 --:--:--  450k\n"
          ]
        }
      ],
      "source": [
        "!pip install easyocr\n",
        "!pip install imutils\n",
        "!curl -o moto.mp4 https://kleberalbinomoreira.com.br/moto.mp4 #baixa o video de exemplo\n",
        "import cv2\n",
        "from matplotlib import pyplot as plt\n",
        "import numpy as np\n",
        "from collections import Counter\n",
        "import imutils\n",
        "import easyocr\n"
      ]
    },
    {
      "cell_type": "code",
      "execution_count": 3,
      "metadata": {
        "colab": {
          "base_uri": "https://localhost:8080/"
        },
        "id": "THzNOv4Fe_0D",
        "outputId": "b968af12-83f5-48bb-e484-ed5d6ba31009"
      },
      "outputs": [
        {
          "output_type": "stream",
          "name": "stderr",
          "text": [
            "Downloading detection model, please wait. This may take several minutes depending upon your network connection.\n"
          ]
        },
        {
          "output_type": "stream",
          "name": "stdout",
          "text": [
            "Progress: |██████████████████████████████████████████████████| 100.0% Complete"
          ]
        },
        {
          "output_type": "stream",
          "name": "stderr",
          "text": [
            "Downloading recognition model, please wait. This may take several minutes depending upon your network connection.\n"
          ]
        },
        {
          "output_type": "stream",
          "name": "stdout",
          "text": [
            "Progress: |██████████████████████████████████████████████████| 100.0% CompleteFrame( 0 ) - Nenhuma placa encontrada\n",
            "Frame( 1 ) - Nenhuma placa encontrada\n",
            "Frame( 2 ) - Nenhuma placa encontrada\n",
            "Frame( 3 ) - Nenhuma placa encontrada\n",
            "Frame( 4 ) - Nenhuma placa encontrada\n",
            "Frame( 5 ) - Nenhuma placa encontrada\n",
            "Frame( 6 ) - Nenhuma placa encontrada\n",
            "Frame( 7 ) - Nenhuma placa encontrada\n",
            "Frame( 8 ) - Nenhuma placa encontrada\n",
            "Frame( 9 ) - Nenhuma placa encontrada\n",
            "Frame( 10 ) - Nenhuma placa encontrada\n",
            "Frame( 11 ) - Nenhuma placa encontrada\n",
            "Frame( 12 ) - Nenhuma placa encontrada\n",
            "Frame( 13 ) - Nenhuma placa encontrada\n",
            "Frame( 14 ) - Nenhuma placa encontrada\n",
            "Frame( 15 ) - Nenhuma placa encontrada\n",
            "Frame( 16 ) - Nenhuma placa encontrada\n",
            "Frame( 17 ) - Nenhuma placa encontrada\n",
            "Frame( 18 ) - Nenhuma placa encontrada\n",
            "Frame( 19 ) - Nenhuma placa encontrada\n",
            "Frame( 20 ) - Nenhuma placa encontrada\n",
            "Frame( 21 ) - Nenhuma placa encontrada\n",
            "Frame( 22 ) - Nenhuma placa encontrada\n",
            "Frame( 23 ) - Nenhuma placa encontrada\n",
            "Frame( 24 ) - Nenhuma placa encontrada\n",
            "Frame( 25 ) - Placa ( F - 5 ) encontrada.\n",
            "Frame( 26 ) - Placa ( Z F - 145 ) encontrada.\n",
            "Frame( 27 ) - Placa ( IPZF - 8145 ) encontrada.\n",
            "Frame( 28 ) - Placa ( PZE - 8445 ) encontrada.\n",
            "Frame( 29 ) - Placa ( PZE - 8145 ) encontrada.\n",
            "Frame( 30 ) - Placa ( PZF - 6145 ) encontrada.\n",
            "Frame( 31 ) - Placa ( PZF - 6145 ) encontrada.\n",
            "Frame( 32 ) - Placa ( PZF - 8145 ) encontrada.\n",
            "Frame( 33 ) - Placa ( PZF - 6145 ) encontrada.\n",
            "Frame( 34 ) - Placa ( PZ F - 8145 ) encontrada.\n",
            "Frame( 35 ) - Placa ( PZF - 8I45 ) encontrada.\n",
            "Frame( 36 ) - Placa ( PZF - 814S ) encontrada.\n",
            "Frame( 37 ) - Placa ( PAF - 8 ) encontrada.\n",
            "Frame( 38 ) - Placa ( P - 8 ) encontrada.\n",
            "Frame( 39 ) - Placa ( P - 6 ) encontrada.\n",
            "Frame( 40 ) - Nenhuma placa encontrada\n",
            "Frame( 41 ) - Nenhuma placa encontrada\n",
            "Frame( 42 ) - Nenhuma placa encontrada\n",
            "Frame( 43 ) - Nenhuma placa encontrada\n",
            "Frame( 44 ) - Nenhuma placa encontrada\n",
            "Frame( 45 ) - Nenhuma placa encontrada\n",
            "Frame( 46 ) - Nenhuma placa encontrada\n",
            "Frame( 47 ) - Nenhuma placa encontrada\n",
            "Frame( 48 ) - Nenhuma placa encontrada\n",
            "Frame( 49 ) - Nenhuma placa encontrada\n",
            "Frame( 50 ) - Nenhuma placa encontrada\n",
            "Frame( 51 ) - Nenhuma placa encontrada\n",
            "Frame( 52 ) - Nenhuma placa encontrada\n",
            "Frame( 53 ) - Nenhuma placa encontrada\n",
            "Frame( 54 ) - Nenhuma placa encontrada\n",
            "placa final:\n",
            "PZF-8145\n"
          ]
        }
      ],
      "source": [
        "video = cv2.VideoCapture('moto.mp4')\n",
        "\n",
        "vetorPlacaCima = list()\n",
        "vetorPlacaBaixo = list()\n",
        "\n",
        "i=0\n",
        "while(video.isOpened()):#passa por todos os frames do video\n",
        "    ret, frame = video.read()\n",
        "    if ret == False:\n",
        "        break\n",
        "\n",
        "    #cv2.imwrite('a-'+str(i)+'.jpg',frame)#salva todos os frames do video em imagens\n",
        "    cv2.imwrite('frame.jpg',frame)\n",
        "\n",
        "\n",
        "    img = cv2.imread('frame.jpg')#salva o frame atual\n",
        "    gray = cv2.cvtColor(img, cv2.COLOR_BGR2GRAY)\n",
        "    \n",
        "\n",
        "    bfilter = cv2.bilateralFilter(gray, 11, 17, 17) #Noise reduction\n",
        "    edged = cv2.Canny(bfilter, 30, 90) #Edge detection\n",
        "    \n",
        "    #tenta realizar a leitura da placa\n",
        "    try:\n",
        "      reader = easyocr.Reader(['en'])\n",
        "      result = reader.readtext(gray)\n",
        "\n",
        "      placaCima = result[0][-2].upper()#le a parte superior da placa\n",
        "      placaBaixo = result[1][-2].upper()#le a parte inferior da placa\n",
        "\n",
        "      vetorPlacaCima.append(placaCima)#salva em um vetor todas as letras encontradas na parte superior da placa\n",
        "      vetorPlacaBaixo.append(placaBaixo)#salva em um vetor todas as letras encontradas na parte inferior da placa\n",
        "      print(\"Frame(\",i,\") - Placa (\",placaCima,\"-\",placaBaixo,\") encontrada.\")#mostra o valor encontrado da placa no frame atual\n",
        "    except:\n",
        "      print(\"Frame(\",i,\") - Nenhuma placa encontrada\")#caso encontre erro na leitura inforama que a placa nao foi encontrada\n",
        "    \n",
        "\n",
        "    i+=1\n",
        "\n",
        "A = np.array(vetorPlacaCima)\n",
        "x = Counter(A.flat).most_common(1)#decobre qual as letras encontradas na parte superior da placa mais ocorrem\n",
        "\n",
        "B = np.array(vetorPlacaBaixo)\n",
        "y = Counter(B.flat).most_common(1)#decobre qual as letras encontradas na parte inferior da placa mais ocorrem\n",
        "print(\"placa final:\")\n",
        "placaFinal=x[0][0]+\"-\"+y[0][0]\n",
        "print(x[0][0]+\"-\"+y[0][0])#motra o resultado mais provavel\n",
        "video.release()"
      ]
    },
    {
      "cell_type": "code",
      "source": [
        "from datetime import datetime\n",
        "\n",
        "relatorio = open(\"relatorio.txt\", \"a\")\n",
        "\n",
        "if placaFinal in oficias_list:\n",
        "  print(\"O veiculo \"+placaFinal+\" (OFICIAL) entrou no IF as \"+datetime.today().strftime('%d/%m/%Y - %H:%M:%S'))\n",
        "  relatorio.write(\"\\n[\"+datetime.today().strftime('%d/%m/%Y - %H:%M:%S')+\"] - \"+placaFinal+\" (OFICIAL)\")\n",
        "elif placaFinal in ocorrencias_list:\n",
        "  print(\"O veiculo \"+placaFinal+\" (COM OCORRENCIA) entrou no IF as \"+datetime.today().strftime('%d/%m/%Y - %H:%M:%S'))\n",
        "  relatorio.write(\"\\n[\"+datetime.today().strftime('%d/%m/%Y - %H:%M:%S')+\"] - \"+placaFinal+\" (COM OCORRENCIA)\")\n",
        "else:\n",
        "  print(\"O veiculo \"+placaFinal+\" (PARTICULAR) entrou no IF as \"+datetime.today().strftime('%d/%m/%Y - %H:%M:%S'))\n",
        "  relatorio.write(\"\\n[\"+datetime.today().strftime('%d/%m/%Y - %H:%M:%S')+\"] - \"+placaFinal+\" (PARTICULAR)\")"
      ],
      "metadata": {
        "colab": {
          "base_uri": "https://localhost:8080/"
        },
        "id": "UElnHnMx_rhV",
        "outputId": "9b58e0f6-bace-4e83-f6bc-092008cbbf2a"
      },
      "execution_count": 14,
      "outputs": [
        {
          "output_type": "stream",
          "name": "stdout",
          "text": [
            "O veiculo PZF-8145 (PARTICULAR) entrou no IF as 04/07/2022 - 02:45:25\n"
          ]
        }
      ]
    }
  ],
  "metadata": {
    "accelerator": "GPU",
    "colab": {
      "name": "2.ipynb",
      "provenance": [],
      "collapsed_sections": []
    },
    "gpuClass": "standard",
    "kernelspec": {
      "display_name": "Python 3",
      "name": "python3"
    },
    "language_info": {
      "name": "python"
    }
  },
  "nbformat": 4,
  "nbformat_minor": 0
}